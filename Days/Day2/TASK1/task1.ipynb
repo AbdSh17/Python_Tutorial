{
 "cells": [
  {
   "metadata": {},
   "cell_type": "markdown",
   "source": "# TASK1:",
   "id": "f55fd16cba27697e"
  },
  {
   "metadata": {},
   "cell_type": "markdown",
   "source": "![Task1](./photos/img.png)\n",
   "id": "b6d6bb3436dc6667"
  },
  {
   "metadata": {},
   "cell_type": "code",
   "outputs": [],
   "execution_count": null,
   "source": "",
   "id": "9175833274c24e44"
  }
 ],
 "metadata": {
  "kernelspec": {
   "display_name": "Python 3",
   "language": "python",
   "name": "python3"
  },
  "language_info": {
   "codemirror_mode": {
    "name": "ipython",
    "version": 2
   },
   "file_extension": ".py",
   "mimetype": "text/x-python",
   "name": "python",
   "nbconvert_exporter": "python",
   "pygments_lexer": "ipython2",
   "version": "2.7.6"
  }
 },
 "nbformat": 4,
 "nbformat_minor": 5
}
