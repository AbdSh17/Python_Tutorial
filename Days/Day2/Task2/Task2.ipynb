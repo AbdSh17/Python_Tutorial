{
 "cells": [
  {
   "metadata": {},
   "cell_type": "markdown",
   "source": "# TASK2",
   "id": "73b2047d06548684"
  },
  {
   "metadata": {},
   "cell_type": "markdown",
   "source": "![TASK2](./Photos/img.png)",
   "id": "40013b174896b3e1"
  },
  {
   "metadata": {},
   "cell_type": "code",
   "outputs": [],
   "execution_count": null,
   "source": "`",
   "id": "f316a6e34434ae95"
  }
 ],
 "metadata": {
  "kernelspec": {
   "display_name": "Python 3",
   "language": "python",
   "name": "python3"
  },
  "language_info": {
   "codemirror_mode": {
    "name": "ipython",
    "version": 2
   },
   "file_extension": ".py",
   "mimetype": "text/x-python",
   "name": "python",
   "nbconvert_exporter": "python",
   "pygments_lexer": "ipython2",
   "version": "2.7.6"
  }
 },
 "nbformat": 4,
 "nbformat_minor": 5
}
