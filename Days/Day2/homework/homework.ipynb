{
 "cells": [
  {
   "metadata": {},
   "cell_type": "markdown",
   "source": [
    "# HOMEWORK\n",
    "## Question\n",
    "![IMG1](photos/img.png)"
   ],
   "id": "20b529b4be355e02"
  },
  {
   "metadata": {},
   "cell_type": "markdown",
   "source": [
    "## Variance equation\n",
    "![IMG1](photos/img_1.png)"
   ],
   "id": "e917ad752d2f479"
  },
  {
   "metadata": {},
   "cell_type": "markdown",
   "source": [
    "## Variance equation#2\n",
    "![IMG1](photos/img_2.png)"
   ],
   "id": "77fee7c8a9d1770d"
  },
  {
   "metadata": {},
   "cell_type": "code",
   "outputs": [],
   "execution_count": null,
   "source": "",
   "id": "389fdd475d9b9fb8"
  }
 ],
 "metadata": {
  "kernelspec": {
   "display_name": "Python 3",
   "language": "python",
   "name": "python3"
  },
  "language_info": {
   "codemirror_mode": {
    "name": "ipython",
    "version": 2
   },
   "file_extension": ".py",
   "mimetype": "text/x-python",
   "name": "python",
   "nbconvert_exporter": "python",
   "pygments_lexer": "ipython2",
   "version": "2.7.6"
  }
 },
 "nbformat": 4,
 "nbformat_minor": 5
}
